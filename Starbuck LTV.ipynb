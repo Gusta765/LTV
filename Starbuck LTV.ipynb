{
 "cells": [
  {
   "cell_type": "markdown",
   "id": "7a0c7c90",
   "metadata": {},
   "source": [
    "# Carregando e Visualizando os dados"
   ]
  },
  {
   "cell_type": "code",
   "execution_count": 25,
   "id": "3d7618f6",
   "metadata": {},
   "outputs": [
    {
     "data": {
      "text/plain": [
       "USER_ID    object\n",
       "Mes_1       int64\n",
       "Mes_2       int64\n",
       "Mes_3       int64\n",
       "Mes_4       int64\n",
       "Mes_5       int64\n",
       "Mes_6       int64\n",
       "LTV         int64\n",
       "dtype: object"
      ]
     },
     "execution_count": 25,
     "metadata": {},
     "output_type": "execute_result"
    }
   ],
   "source": [
    "from pandas import Series, DataFrame\n",
    "import pandas as pd\n",
    "import numpy as np\n",
    "import os\n",
    "import matplotlib.pylab as plt\n",
    "from sklearn.linear_model import LinearRegression\n",
    "import sklearn.metrics\n",
    "from sklearn.model_selection import train_test_split\n",
    "\n",
    "\n",
    "raw_data = pd.read_csv('starbucks.csv')\n",
    "raw_data.dtypes"
   ]
  },
  {
   "cell_type": "markdown",
   "id": "ca35550b",
   "metadata": {},
   "source": [
    "O conjunto de dados consiste no ID do cliente (User_ID) o valor que o cliente gastou no Starbucks em cada um dos primeiros 6 meses desde que se tornou cliente e seu LTV depois de um determinado periodo de 36 meses"
   ]
  },
  {
   "cell_type": "code",
   "execution_count": 26,
   "id": "f6a11c85",
   "metadata": {},
   "outputs": [
    {
     "data": {
      "text/html": [
       "<div>\n",
       "<style scoped>\n",
       "    .dataframe tbody tr th:only-of-type {\n",
       "        vertical-align: middle;\n",
       "    }\n",
       "\n",
       "    .dataframe tbody tr th {\n",
       "        vertical-align: top;\n",
       "    }\n",
       "\n",
       "    .dataframe thead th {\n",
       "        text-align: right;\n",
       "    }\n",
       "</style>\n",
       "<table border=\"1\" class=\"dataframe\">\n",
       "  <thead>\n",
       "    <tr style=\"text-align: right;\">\n",
       "      <th></th>\n",
       "      <th>USER_ID</th>\n",
       "      <th>Mes_1</th>\n",
       "      <th>Mes_2</th>\n",
       "      <th>Mes_3</th>\n",
       "      <th>Mes_4</th>\n",
       "      <th>Mes_5</th>\n",
       "      <th>Mes_6</th>\n",
       "      <th>LTV</th>\n",
       "    </tr>\n",
       "  </thead>\n",
       "  <tbody>\n",
       "    <tr>\n",
       "      <th>0</th>\n",
       "      <td>SB1001</td>\n",
       "      <td>143</td>\n",
       "      <td>68</td>\n",
       "      <td>193</td>\n",
       "      <td>93</td>\n",
       "      <td>168</td>\n",
       "      <td>68</td>\n",
       "      <td>13118</td>\n",
       "    </tr>\n",
       "    <tr>\n",
       "      <th>1</th>\n",
       "      <td>SB1002</td>\n",
       "      <td>18</td>\n",
       "      <td>43</td>\n",
       "      <td>143</td>\n",
       "      <td>193</td>\n",
       "      <td>168</td>\n",
       "      <td>193</td>\n",
       "      <td>9368</td>\n",
       "    </tr>\n",
       "    <tr>\n",
       "      <th>2</th>\n",
       "      <td>SB1003</td>\n",
       "      <td>68</td>\n",
       "      <td>143</td>\n",
       "      <td>0</td>\n",
       "      <td>18</td>\n",
       "      <td>68</td>\n",
       "      <td>18</td>\n",
       "      <td>5149</td>\n",
       "    </tr>\n",
       "    <tr>\n",
       "      <th>3</th>\n",
       "      <td>SB1004</td>\n",
       "      <td>193</td>\n",
       "      <td>184</td>\n",
       "      <td>18</td>\n",
       "      <td>93</td>\n",
       "      <td>68</td>\n",
       "      <td>143</td>\n",
       "      <td>11749</td>\n",
       "    </tr>\n",
       "    <tr>\n",
       "      <th>4</th>\n",
       "      <td>SB1005</td>\n",
       "      <td>210</td>\n",
       "      <td>187</td>\n",
       "      <td>118</td>\n",
       "      <td>68</td>\n",
       "      <td>168</td>\n",
       "      <td>193</td>\n",
       "      <td>15518</td>\n",
       "    </tr>\n",
       "  </tbody>\n",
       "</table>\n",
       "</div>"
      ],
      "text/plain": [
       "  USER_ID  Mes_1  Mes_2  Mes_3  Mes_4  Mes_5  Mes_6    LTV\n",
       "0  SB1001    143     68    193     93    168     68  13118\n",
       "1  SB1002     18     43    143    193    168    193   9368\n",
       "2  SB1003     68    143      0     18     68     18   5149\n",
       "3  SB1004    193    184     18     93     68    143  11749\n",
       "4  SB1005    210    187    118     68    168    193  15518"
      ]
     },
     "execution_count": 26,
     "metadata": {},
     "output_type": "execute_result"
    }
   ],
   "source": [
    "raw_data.head()"
   ]
  },
  {
   "cell_type": "markdown",
   "id": "88752550",
   "metadata": {},
   "source": [
    "# Fazendo uma Análise Correlacional (Correlation Analysis)"
   ]
  },
  {
   "cell_type": "code",
   "execution_count": 27,
   "id": "cf1af1d3",
   "metadata": {},
   "outputs": [
    {
     "data": {
      "text/plain": [
       "Mes_1    0.747470\n",
       "Mes_2    0.315811\n",
       "Mes_3    0.393450\n",
       "Mes_4    0.280002\n",
       "Mes_5    0.368906\n",
       "Mes_6    0.370982\n",
       "LTV      1.000000\n",
       "Name: LTV, dtype: float64"
      ]
     },
     "execution_count": 27,
     "metadata": {},
     "output_type": "execute_result"
    }
   ],
   "source": [
    "cleaned_data = raw_data.drop('USER_ID',axis=1)\n",
    "cleaned_data.corr()['LTV']"
   ]
  },
  {
   "cell_type": "markdown",
   "id": "1e5c472c",
   "metadata": {},
   "source": [
    "Podemos ver que os meses mostram forte correlação com a variável alvo (LTV) isso deve nos dar confiança de que podemos construir um modelo forte para prever o LTV de novos clientes do Starbucks"
   ]
  },
  {
   "cell_type": "markdown",
   "id": "a0321a32",
   "metadata": {},
   "source": [
    "# Fazer a Divisão dos dados em treinamento e Teste"
   ]
  },
  {
   "cell_type": "markdown",
   "id": "8cbaab34",
   "metadata": {},
   "source": [
    "Vamos dividor os dados em conjuntos de dados de treinamento e teste na proporção de 90:10"
   ]
  },
  {
   "cell_type": "code",
   "execution_count": 28,
   "id": "396ae7ad",
   "metadata": {},
   "outputs": [
    {
     "name": "stdout",
     "output_type": "stream",
     "text": [
      "Predictor - Training :  (77, 6) Predictor - Testing :  (9, 6)\n"
     ]
    }
   ],
   "source": [
    "predictors = cleaned_data.drop('LTV',axis=1)\n",
    "targets = cleaned_data.LTV\n",
    "\n",
    "pred_train, pred_test, tar_train, tar_test = train_test_split(predictors, targets, test_size=.1)\n",
    "print(\"Predictor - Training : \", pred_train.shape, \"Predictor - Testing : \", pred_test.shape)"
   ]
  },
  {
   "cell_type": "markdown",
   "id": "174c5984",
   "metadata": {},
   "source": [
    "# Construir e Testar o Modelo\n",
    "Construimos uma equeção de regressão linear para prever LTV, e em seguida, verificamos sua presição prevendo contra o conjunto de dados de teste"
   ]
  },
  {
   "cell_type": "code",
   "execution_count": 29,
   "id": "042b5d31",
   "metadata": {},
   "outputs": [
    {
     "name": "stdout",
     "output_type": "stream",
     "text": [
      "Coeffcients: \n",
      " [35.26528843 10.98882627 15.38094259 12.14532487  8.27671033  6.208727  ]\n",
      "Intercept: 344.80781168716567\n"
     ]
    },
    {
     "data": {
      "text/plain": [
       "0.8044351859706049"
      ]
     },
     "execution_count": 29,
     "metadata": {},
     "output_type": "execute_result"
    }
   ],
   "source": [
    "#Construir o Modelo com dados de Treinamento\n",
    "model = LinearRegression()\n",
    "model.fit(pred_train, tar_train)\n",
    "print('Coeffcients: \\n', model.coef_)\n",
    "print('Intercept:', model.intercept_)\n",
    "\n",
    "#Testar nos dados de Teste\n",
    "predictions = model.predict(pred_test)\n",
    "predictions\n",
    "\n",
    "sklearn.metrics.r2_score(tar_test, predictions)"
   ]
  },
  {
   "cell_type": "markdown",
   "id": "b52a2b67",
   "metadata": {},
   "source": [
    "Ele mostra uma precisão alta. Este é um modelo excelente para prever o LTV"
   ]
  },
  {
   "cell_type": "markdown",
   "id": "f3df5bb8",
   "metadata": {},
   "source": [
    "# Prevendo para um novo cliente\n",
    "Digamos que temos um novo cliente que em seus primeiros 3 meses gastou 120,70,90 no Starbucks. Vamos usar o modelo para prever seu LTV"
   ]
  },
  {
   "cell_type": "code",
   "execution_count": 33,
   "id": "2736a9b9",
   "metadata": {},
   "outputs": [
    {
     "name": "stdout",
     "output_type": "stream",
     "text": [
      "O LTV deste consumidor é : $ 9269.098331695004\n"
     ]
    },
    {
     "name": "stderr",
     "output_type": "stream",
     "text": [
      "C:\\Users\\User\\anaconda3\\Lib\\site-packages\\sklearn\\base.py:464: UserWarning: X does not have valid feature names, but LinearRegression was fitted with feature names\n",
      "  warnings.warn(\n"
     ]
    }
   ],
   "source": [
    "new_data = np.array([120,80,90,200,0,0]).reshape(1, -1)\n",
    "new_pred = model.predict(new_data)\n",
    "print('O LTV deste consumidor é : $',new_pred[0])"
   ]
  },
  {
   "cell_type": "code",
   "execution_count": null,
   "id": "6404896a",
   "metadata": {},
   "outputs": [],
   "source": []
  }
 ],
 "metadata": {
  "kernelspec": {
   "display_name": "Python 3 (ipykernel)",
   "language": "python",
   "name": "python3"
  },
  "language_info": {
   "codemirror_mode": {
    "name": "ipython",
    "version": 3
   },
   "file_extension": ".py",
   "mimetype": "text/x-python",
   "name": "python",
   "nbconvert_exporter": "python",
   "pygments_lexer": "ipython3",
   "version": "3.11.4"
  }
 },
 "nbformat": 4,
 "nbformat_minor": 5
}
